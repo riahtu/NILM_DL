{
 "cells": [
  {
   "cell_type": "code",
   "execution_count": null,
   "metadata": {},
   "outputs": [],
   "source": [
    "# Created by zhai at 2018/4/25\n",
    "# Email: zsp1197@163.com\n",
    "from unittest import TestCase\n",
    "from datamarket.NILMDataset import NILMDataset\n",
    "\n",
    "class TestNILMDataset(TestCase):\n",
    "    def setUp(self):\n",
    "        self.nilm_dataset=NILMDataset('../data/allappliances4.hdf5','../data/allappliancesdict_refine4')\n",
    "\n",
    "    def test_fsdjl(self):\n",
    "        self.nilm_dataset.getStates()\n",
    "        # self.nilm_dataset.houses[0].get_states_list_by_TIE(self.nilm_dataset.states_dict)\n",
    "        for house in self.nilm_dataset.houses:\n",
    "            house.get_states_list_by_TIE(self.nilm_dataset.states_dict)\n",
    "        pass\n",
    "\n",
    "# tn=TestNILMDataset()\n",
    "# pass"
   ]
  }
 ],
 "metadata": {
  "language": "python"
 },
 "nbformat": 4,
 "nbformat_minor": 2
}
